{
 "cells": [
  {
   "cell_type": "markdown",
   "metadata": {},
   "source": [
    "# DataSet Performance\n",
    "\n",
    "This notebook shows the trade-off between inserting data into a database row-by-row and as binary blobs. Inserting the data row-by-row means that we have direct access to all the data and may perform queries directly on the values of the data. On the other hand, as we shall see, this is much slower than inserting the data directly as binary blobs."
   ]
  },
  {
   "cell_type": "markdown",
   "metadata": {},
   "source": [
    "First, we choose a new location for the database to ensure that we don't add a bunch of benchmarking data to the default one."
   ]
  },
  {
   "cell_type": "code",
   "execution_count": 1,
   "metadata": {
    "execution": {
     "iopub.execute_input": "2022-04-04T10:38:27.011791Z",
     "iopub.status.busy": "2022-04-04T10:38:27.011208Z",
     "iopub.status.idle": "2022-04-04T10:38:27.315041Z",
     "shell.execute_reply": "2022-04-04T10:38:27.314291Z"
    }
   },
   "outputs": [],
   "source": [
    "import os\n",
    "cwd = os.getcwd()\n",
    "import qcodes as qc\n",
    "qc.config[\"core\"][\"db_location\"] = os.path.join(cwd, 'testing.db')\n"
   ]
  },
  {
   "cell_type": "code",
   "execution_count": 2,
   "metadata": {
    "execution": {
     "iopub.execute_input": "2022-04-04T10:38:27.320360Z",
     "iopub.status.busy": "2022-04-04T10:38:27.320010Z",
     "iopub.status.idle": "2022-04-04T10:38:28.119929Z",
     "shell.execute_reply": "2022-04-04T10:38:28.119169Z"
    }
   },
   "outputs": [],
   "source": [
    "%matplotlib inline\n",
    "import time\n",
    "import matplotlib.pyplot as plt\n",
    "import numpy as np\n",
    "\n",
    "import qcodes as qc\n",
    "from qcodes.instrument.parameter import ManualParameter\n",
    "from qcodes.dataset.experiment_container import (Experiment,\n",
    "                                                 load_last_experiment,\n",
    "                                                 new_experiment)\n",
    "from qcodes.dataset.sqlite.database import initialise_database\n",
    "from qcodes import load_or_create_experiment\n",
    "from qcodes.dataset.measurements import Measurement"
   ]
  },
  {
   "cell_type": "code",
   "execution_count": 3,
   "metadata": {
    "execution": {
     "iopub.execute_input": "2022-04-04T10:38:28.123941Z",
     "iopub.status.busy": "2022-04-04T10:38:28.123578Z",
     "iopub.status.idle": "2022-04-04T10:38:28.205717Z",
     "shell.execute_reply": "2022-04-04T10:38:28.205121Z"
    }
   },
   "outputs": [
    {
     "name": "stdout",
     "output_type": "stream",
     "text": [
      "\r",
      "0it [00:00, ?it/s]"
     ]
    },
    {
     "name": "stdout",
     "output_type": "stream",
     "text": [
      "\r",
      "Upgrading database; v0 -> v1: : 0it [00:00, ?it/s]"
     ]
    },
    {
     "name": "stdout",
     "output_type": "stream",
     "text": [
      "\r",
      "Upgrading database; v0 -> v1: : 0it [00:00, ?it/s]"
     ]
    },
    {
     "name": "stdout",
     "output_type": "stream",
     "text": [
      "\n"
     ]
    },
    {
     "name": "stdout",
     "output_type": "stream",
     "text": [
      "\r",
      "  0%|          | 0/1 [00:00<?, ?it/s]"
     ]
    },
    {
     "name": "stdout",
     "output_type": "stream",
     "text": [
      "\r",
      "Upgrading database; v1 -> v2:   0%|          | 0/1 [00:00<?, ?it/s]"
     ]
    },
    {
     "name": "stdout",
     "output_type": "stream",
     "text": [
      "\r",
      "Upgrading database; v1 -> v2: 100%|██████████| 1/1 [00:00<00:00, 967.99it/s]"
     ]
    },
    {
     "name": "stdout",
     "output_type": "stream",
     "text": [
      "\n"
     ]
    },
    {
     "name": "stdout",
     "output_type": "stream",
     "text": [
      "\r",
      "0it [00:00, ?it/s]"
     ]
    },
    {
     "name": "stdout",
     "output_type": "stream",
     "text": [
      "\r",
      "Upgrading database; v2 -> v3: : 0it [00:00, ?it/s]"
     ]
    },
    {
     "name": "stdout",
     "output_type": "stream",
     "text": [
      "\r",
      "Upgrading database; v2 -> v3: : 0it [00:00, ?it/s]"
     ]
    },
    {
     "name": "stdout",
     "output_type": "stream",
     "text": [
      "\n"
     ]
    },
    {
     "name": "stdout",
     "output_type": "stream",
     "text": [
      "\r",
      "0it [00:00, ?it/s]"
     ]
    },
    {
     "name": "stdout",
     "output_type": "stream",
     "text": [
      "\r",
      "Upgrading database; v3 -> v4: : 0it [00:00, ?it/s]"
     ]
    },
    {
     "name": "stdout",
     "output_type": "stream",
     "text": [
      "\r",
      "Upgrading database; v3 -> v4: : 0it [00:00, ?it/s]"
     ]
    },
    {
     "name": "stdout",
     "output_type": "stream",
     "text": [
      "\n"
     ]
    },
    {
     "name": "stdout",
     "output_type": "stream",
     "text": [
      "\r",
      "  0%|          | 0/1 [00:00<?, ?it/s]"
     ]
    },
    {
     "name": "stdout",
     "output_type": "stream",
     "text": [
      "\r",
      "Upgrading database; v4 -> v5:   0%|          | 0/1 [00:00<?, ?it/s]"
     ]
    },
    {
     "name": "stdout",
     "output_type": "stream",
     "text": [
      "\r",
      "Upgrading database; v4 -> v5: 100%|██████████| 1/1 [00:00<00:00, 590.41it/s]"
     ]
    },
    {
     "name": "stdout",
     "output_type": "stream",
     "text": [
      "\n"
     ]
    },
    {
     "name": "stdout",
     "output_type": "stream",
     "text": [
      "\r",
      "0it [00:00, ?it/s]"
     ]
    },
    {
     "name": "stdout",
     "output_type": "stream",
     "text": [
      "\r",
      "Upgrading database; v5 -> v6: : 0it [00:00, ?it/s]"
     ]
    },
    {
     "name": "stdout",
     "output_type": "stream",
     "text": [
      "\r",
      "Upgrading database; v5 -> v6: : 0it [00:00, ?it/s]"
     ]
    },
    {
     "name": "stdout",
     "output_type": "stream",
     "text": [
      "\n"
     ]
    },
    {
     "name": "stdout",
     "output_type": "stream",
     "text": [
      "\r",
      "  0%|          | 0/1 [00:00<?, ?it/s]"
     ]
    },
    {
     "name": "stdout",
     "output_type": "stream",
     "text": [
      "\r",
      "Upgrading database; v6 -> v7:   0%|          | 0/1 [00:00<?, ?it/s]"
     ]
    },
    {
     "name": "stdout",
     "output_type": "stream",
     "text": [
      "\r",
      "Upgrading database; v6 -> v7: 100%|██████████| 1/1 [00:00<00:00, 228.32it/s]"
     ]
    },
    {
     "name": "stdout",
     "output_type": "stream",
     "text": [
      "\n"
     ]
    },
    {
     "name": "stdout",
     "output_type": "stream",
     "text": [
      "\r",
      "  0%|          | 0/1 [00:00<?, ?it/s]"
     ]
    },
    {
     "name": "stdout",
     "output_type": "stream",
     "text": [
      "\r",
      "Upgrading database; v7 -> v8:   0%|          | 0/1 [00:00<?, ?it/s]"
     ]
    },
    {
     "name": "stdout",
     "output_type": "stream",
     "text": [
      "\r",
      "Upgrading database; v7 -> v8: 100%|██████████| 1/1 [00:00<00:00, 1059.44it/s]"
     ]
    },
    {
     "name": "stdout",
     "output_type": "stream",
     "text": [
      "\n"
     ]
    },
    {
     "name": "stdout",
     "output_type": "stream",
     "text": [
      "\r",
      "  0%|          | 0/1 [00:00<?, ?it/s]"
     ]
    },
    {
     "name": "stdout",
     "output_type": "stream",
     "text": [
      "\r",
      "Upgrading database; v8 -> v9:   0%|          | 0/1 [00:00<?, ?it/s]"
     ]
    },
    {
     "name": "stdout",
     "output_type": "stream",
     "text": [
      "\r",
      "Upgrading database; v8 -> v9: 100%|██████████| 1/1 [00:00<00:00, 1096.84it/s]"
     ]
    },
    {
     "name": "stdout",
     "output_type": "stream",
     "text": [
      "\n"
     ]
    }
   ],
   "source": [
    "initialise_database()\n",
    "exp = load_or_create_experiment(experiment_name='tutorial_exp', sample_name=\"no sample\")"
   ]
  },
  {
   "cell_type": "markdown",
   "metadata": {},
   "source": [
    "Here, we define a simple function to benchmark the time it takes to insert n points with either numeric or array data type.\n",
    "We will compare both the time used to call ``add_result`` and the time used for the full measurement."
   ]
  },
  {
   "cell_type": "code",
   "execution_count": 4,
   "metadata": {
    "execution": {
     "iopub.execute_input": "2022-04-04T10:38:28.209356Z",
     "iopub.status.busy": "2022-04-04T10:38:28.208773Z",
     "iopub.status.idle": "2022-04-04T10:38:28.218192Z",
     "shell.execute_reply": "2022-04-04T10:38:28.217577Z"
    }
   },
   "outputs": [],
   "source": [
    "def insert_data(paramtype, npoints, nreps=1):\n",
    "\n",
    "    meas = Measurement(exp=exp)\n",
    "\n",
    "    x1 = ManualParameter('x1')\n",
    "    x2 = ManualParameter('x2')\n",
    "    x3 = ManualParameter('x3')\n",
    "    y1 = ManualParameter('y1')\n",
    "    y2 = ManualParameter('y2')\n",
    "\n",
    "    meas.register_parameter(x1, paramtype=paramtype)\n",
    "    meas.register_parameter(x2, paramtype=paramtype)\n",
    "    meas.register_parameter(x3, paramtype=paramtype)\n",
    "    meas.register_parameter(y1, setpoints=[x1, x2, x3],\n",
    "                            paramtype=paramtype)\n",
    "    meas.register_parameter(y2, setpoints=[x1, x2, x3],\n",
    "                            paramtype=paramtype)\n",
    "    start = time.perf_counter()\n",
    "    with meas.run() as datasaver:\n",
    "        start_adding = time.perf_counter()\n",
    "        for i in range(nreps):\n",
    "            datasaver.add_result((x1, np.random.rand(npoints)),\n",
    "                                 (x2, np.random.rand(npoints)),\n",
    "                                 (x3, np.random.rand(npoints)),\n",
    "                                 (y1, np.random.rand(npoints)),\n",
    "                                 (y2, np.random.rand(npoints)))\n",
    "        stop_adding = time.perf_counter()\n",
    "        run_id = datasaver.run_id\n",
    "    stop = time.perf_counter()\n",
    "    tot_time = stop - start\n",
    "    add_time = stop_adding - start_adding\n",
    "    return tot_time, add_time, run_id"
   ]
  },
  {
   "cell_type": "markdown",
   "metadata": {},
   "source": [
    "## Comparison between numeric/array data and binary blob"
   ]
  },
  {
   "cell_type": "markdown",
   "metadata": {},
   "source": [
    "### Case1: Short experiment time"
   ]
  },
  {
   "cell_type": "code",
   "execution_count": 5,
   "metadata": {
    "execution": {
     "iopub.execute_input": "2022-04-04T10:38:28.221383Z",
     "iopub.status.busy": "2022-04-04T10:38:28.220911Z",
     "iopub.status.idle": "2022-04-04T10:38:28.968823Z",
     "shell.execute_reply": "2022-04-04T10:38:28.968110Z"
    }
   },
   "outputs": [
    {
     "name": "stdout",
     "output_type": "stream",
     "text": [
      "Starting experimental run with id: 1. \n",
      "Starting experimental run with id: 2. \n",
      "Starting experimental run with id: 3. \n",
      "Starting experimental run with id: 4. \n",
      "Starting experimental run with id: 5. \n"
     ]
    },
    {
     "name": "stdout",
     "output_type": "stream",
     "text": [
      "Starting experimental run with id: 6. \n"
     ]
    },
    {
     "name": "stdout",
     "output_type": "stream",
     "text": [
      "Starting experimental run with id: 7. \n"
     ]
    },
    {
     "name": "stdout",
     "output_type": "stream",
     "text": [
      "Starting experimental run with id: 8. \n",
      "Starting experimental run with id: 9. \n"
     ]
    },
    {
     "name": "stdout",
     "output_type": "stream",
     "text": [
      "Starting experimental run with id: 10. \n"
     ]
    },
    {
     "name": "stdout",
     "output_type": "stream",
     "text": [
      "Starting experimental run with id: 11. \n"
     ]
    },
    {
     "name": "stdout",
     "output_type": "stream",
     "text": [
      "Starting experimental run with id: 12. \n",
      "Starting experimental run with id: 13. \n"
     ]
    },
    {
     "name": "stdout",
     "output_type": "stream",
     "text": [
      "Starting experimental run with id: 14. \n"
     ]
    }
   ],
   "source": [
    "sizes = [1,500,1000,2000,3000,4000,5000]\n",
    "t_numeric = []\n",
    "t_numeric_add = []\n",
    "t_array = []\n",
    "t_array_add = []\n",
    "for size in sizes:\n",
    "    tn, tna, run_id_n =  insert_data('numeric', size)\n",
    "    t_numeric.append(tn)\n",
    "    t_numeric_add.append(tna)\n",
    "\n",
    "    ta, taa, run_id_a =  insert_data('array', size)\n",
    "    t_array.append(ta)\n",
    "    t_array_add.append(taa)"
   ]
  },
  {
   "cell_type": "code",
   "execution_count": 6,
   "metadata": {
    "execution": {
     "iopub.execute_input": "2022-04-04T10:38:28.972033Z",
     "iopub.status.busy": "2022-04-04T10:38:28.971548Z",
     "iopub.status.idle": "2022-04-04T10:38:29.192049Z",
     "shell.execute_reply": "2022-04-04T10:38:29.191408Z"
    }
   },
   "outputs": [
    {
     "data": {
      "image/png": "[encoded data removed]",
      "text/plain": [
       "<Figure size 432x288 with 1 Axes>"
      ]
     },
     "metadata": {
      "needs_background": "light"
     },
     "output_type": "display_data"
    }
   ],
   "source": [
    "fig, ax = plt.subplots(1,1)\n",
    "ax.plot(sizes, t_numeric, 'o-', label='Inserting row-by-row')\n",
    "ax.plot(sizes, t_numeric_add, 'o-', label='Inserting row-by-row: add_result only')\n",
    "ax.plot(sizes, t_array, 'd-', label='Inserting as binary blob')\n",
    "ax.plot(sizes, t_array_add, 'd-', label='Inserting as binary blob: add_result only')\n",
    "ax.legend()\n",
    "ax.set_xlabel('Array length')\n",
    "ax.set_ylabel('Time (s)')\n",
    "fig.tight_layout()"
   ]
  },
  {
   "cell_type": "markdown",
   "metadata": {},
   "source": [
    "As shown in the latter figure, the time to setup and and close the experiment is approximately 0.4 sec. In case of small array sizes, the difference between inserting values of data as arrays and inserting them row-by-row is relatively unimportant. At larger array sizes, i.e. above 10000 points, the cost of writing data as individual datapoints starts to become important.\n"
   ]
  },
  {
   "cell_type": "markdown",
   "metadata": {},
   "source": [
    "### Case2: Long experiment time "
   ]
  },
  {
   "cell_type": "code",
   "execution_count": 7,
   "metadata": {
    "execution": {
     "iopub.execute_input": "2022-04-04T10:38:29.196553Z",
     "iopub.status.busy": "2022-04-04T10:38:29.195221Z",
     "iopub.status.idle": "2022-04-04T10:39:18.672623Z",
     "shell.execute_reply": "2022-04-04T10:39:18.671985Z"
    }
   },
   "outputs": [
    {
     "name": "stdout",
     "output_type": "stream",
     "text": [
      "Starting experimental run with id: 15. \n",
      "Starting experimental run with id: 16. \n",
      "Starting experimental run with id: 17. \n"
     ]
    },
    {
     "name": "stdout",
     "output_type": "stream",
     "text": [
      "Starting experimental run with id: 18. \n",
      "Starting experimental run with id: 19. \n"
     ]
    },
    {
     "name": "stdout",
     "output_type": "stream",
     "text": [
      "Starting experimental run with id: 20. \n",
      "Starting experimental run with id: 21. \n"
     ]
    },
    {
     "name": "stdout",
     "output_type": "stream",
     "text": [
      "Starting experimental run with id: 22. \n"
     ]
    },
    {
     "name": "stdout",
     "output_type": "stream",
     "text": [
      "Starting experimental run with id: 23. \n"
     ]
    },
    {
     "name": "stdout",
     "output_type": "stream",
     "text": [
      "Starting experimental run with id: 24. \n"
     ]
    },
    {
     "name": "stdout",
     "output_type": "stream",
     "text": [
      "Starting experimental run with id: 25. \n"
     ]
    },
    {
     "name": "stdout",
     "output_type": "stream",
     "text": [
      "Starting experimental run with id: 26. \n"
     ]
    },
    {
     "name": "stdout",
     "output_type": "stream",
     "text": [
      "Starting experimental run with id: 27. \n"
     ]
    },
    {
     "name": "stdout",
     "output_type": "stream",
     "text": [
      "Starting experimental run with id: 28. \n"
     ]
    }
   ],
   "source": [
    "sizes = [1,500,1000,2000,3000,4000,5000]\n",
    "nreps = 100\n",
    "t_numeric = []\n",
    "t_numeric_add = []\n",
    "t_numeric_run_ids = []\n",
    "t_array = []\n",
    "t_array_add = []\n",
    "t_array_run_ids = []\n",
    "for size in sizes:\n",
    "    tn, tna, run_id_n =  insert_data('numeric', size, nreps=nreps)\n",
    "    t_numeric.append(tn)\n",
    "    t_numeric_add.append(tna)\n",
    "    t_numeric_run_ids.append(run_id_n)\n",
    "\n",
    "    ta, taa, run_id_a =  insert_data('array', size, nreps=nreps)\n",
    "    t_array.append(ta)\n",
    "    t_array_add.append(taa)\n",
    "    t_array_run_ids.append(run_id_a)"
   ]
  },
  {
   "cell_type": "code",
   "execution_count": 8,
   "metadata": {
    "execution": {
     "iopub.execute_input": "2022-04-04T10:39:18.677102Z",
     "iopub.status.busy": "2022-04-04T10:39:18.676501Z",
     "iopub.status.idle": "2022-04-04T10:39:18.942010Z",
     "shell.execute_reply": "2022-04-04T10:39:18.941060Z"
    },
    "scrolled": true
   },
   "outputs": [
    {
     "data": {
      "image/png": "[encoded data removed]",
      "text/plain": [
       "<Figure size 432x288 with 1 Axes>"
      ]
     },
     "metadata": {
      "needs_background": "light"
     },
     "output_type": "display_data"
    }
   ],
   "source": [
    "fig, ax = plt.subplots(1,1)\n",
    "ax.plot(sizes, t_numeric, 'o-', label='Inserting row-by-row')\n",
    "ax.plot(sizes, t_numeric_add, 'o-', label='Inserting row-by-row: add_result only')\n",
    "ax.plot(sizes, t_array, 'd-', label='Inserting as binary blob')\n",
    "ax.plot(sizes, t_array_add, 'd-', label='Inserting as binary blob: add_result only')\n",
    "ax.legend()\n",
    "ax.set_xlabel('Array length')\n",
    "ax.set_ylabel('Time (s)')\n",
    "fig.tight_layout()"
   ]
  },
  {
   "cell_type": "markdown",
   "metadata": {},
   "source": [
    "However, as we increase the length of the experiment, as seen here by repeating the insertion 100 times, we see a big difference between inserting values of the data row-by-row and inserting it as a binary blob."
   ]
  },
  {
   "cell_type": "markdown",
   "metadata": {},
   "source": [
    "## Loading the data "
   ]
  },
  {
   "cell_type": "code",
   "execution_count": 9,
   "metadata": {
    "execution": {
     "iopub.execute_input": "2022-04-04T10:39:18.945705Z",
     "iopub.status.busy": "2022-04-04T10:39:18.945144Z",
     "iopub.status.idle": "2022-04-04T10:39:18.950501Z",
     "shell.execute_reply": "2022-04-04T10:39:18.949913Z"
    }
   },
   "outputs": [],
   "source": [
    "from qcodes.dataset.data_set import load_by_id"
   ]
  },
  {
   "cell_type": "markdown",
   "metadata": {},
   "source": [
    "As usual you can load the data by using the ``load_by_id`` function but you will notice that the different storage methods\n",
    "are reflected in shape of the data as it is retrieved. "
   ]
  },
  {
   "cell_type": "code",
   "execution_count": 10,
   "metadata": {
    "execution": {
     "iopub.execute_input": "2022-04-04T10:39:18.953862Z",
     "iopub.status.busy": "2022-04-04T10:39:18.953362Z",
     "iopub.status.idle": "2022-04-04T10:39:18.956712Z",
     "shell.execute_reply": "2022-04-04T10:39:18.956108Z"
    }
   },
   "outputs": [],
   "source": [
    "run_id_n = t_numeric_run_ids[0]\n",
    "run_id_a = t_array_run_ids[0]"
   ]
  },
  {
   "cell_type": "code",
   "execution_count": 11,
   "metadata": {
    "execution": {
     "iopub.execute_input": "2022-04-04T10:39:18.959851Z",
     "iopub.status.busy": "2022-04-04T10:39:18.959531Z",
     "iopub.status.idle": "2022-04-04T10:39:18.969620Z",
     "shell.execute_reply": "2022-04-04T10:39:18.968854Z"
    },
    "scrolled": true
   },
   "outputs": [
    {
     "data": {
      "text/plain": [
       "{'x1': {'x1': array([0.06154664, 0.06154664, 0.19272381, 0.19272381, 0.81398411,\n",
       "         0.81398411, 0.54097236, 0.54097236, 0.46002883, 0.46002883,\n",
       "         0.20617639, 0.20617639, 0.18029847, 0.18029847, 0.98286239,\n",
       "         0.98286239, 0.11189761, 0.11189761, 0.10671602, 0.10671602,\n",
       "         0.9567606 , 0.9567606 , 0.07674787, 0.07674787, 0.45136663,\n",
       "         0.45136663, 0.12524359, 0.12524359, 0.56377323, 0.56377323,\n",
       "         0.18541979, 0.18541979, 0.28233396, 0.28233396, 0.48485415,\n",
       "         0.48485415, 0.89201697, 0.89201697, 0.91344492, 0.91344492,\n",
       "         0.5736852 , 0.5736852 , 0.81906886, 0.81906886, 0.57011957,\n",
       "         0.57011957, 0.59650957, 0.59650957, 0.60081648, 0.60081648,\n",
       "         0.10330067, 0.10330067, 0.73279236, 0.73279236, 0.65832939,\n",
       "         0.65832939, 0.85844755, 0.85844755, 0.74612316, 0.74612316,\n",
       "         0.8491214 , 0.8491214 , 0.89513936, 0.89513936, 0.72201575,\n",
       "         0.72201575, 0.08061125, 0.08061125, 0.50812394, 0.50812394,\n",
       "         0.95099485, 0.95099485, 0.93109514, 0.93109514, 0.82472455,\n",
       "         0.82472455, 0.54550369, 0.54550369, 0.27163184, 0.27163184,\n",
       "         0.18906138, 0.18906138, 0.66381803, 0.66381803, 0.24758804,\n",
       "         0.24758804, 0.45611499, 0.45611499, 0.27851609, 0.27851609,\n",
       "         0.77691814, 0.77691814, 0.38371633, 0.38371633, 0.4536609 ,\n",
       "         0.4536609 , 0.85440403, 0.85440403, 0.43445403, 0.43445403,\n",
       "         0.55622203, 0.55622203, 0.78919663, 0.78919663, 0.46826141,\n",
       "         0.46826141, 0.75077643, 0.75077643, 0.8576278 , 0.8576278 ,\n",
       "         0.09297016, 0.09297016, 0.67352363, 0.67352363, 0.70378285,\n",
       "         0.70378285, 0.64547205, 0.64547205, 0.39899426, 0.39899426,\n",
       "         0.52135098, 0.52135098, 0.73489047, 0.73489047, 0.05142502,\n",
       "         0.05142502, 0.70773374, 0.70773374, 0.64103702, 0.64103702,\n",
       "         0.74072038, 0.74072038, 0.25061871, 0.25061871, 0.69679833,\n",
       "         0.69679833, 0.58192572, 0.58192572, 0.65878599, 0.65878599,\n",
       "         0.22937642, 0.22937642, 0.99952382, 0.99952382, 0.71759147,\n",
       "         0.71759147, 0.50865299, 0.50865299, 0.20567813, 0.20567813,\n",
       "         0.01849554, 0.01849554, 0.1512723 , 0.1512723 , 0.63285377,\n",
       "         0.63285377, 0.07367264, 0.07367264, 0.29534178, 0.29534178,\n",
       "         0.61704971, 0.61704971, 0.80047765, 0.80047765, 0.71503621,\n",
       "         0.71503621, 0.42441055, 0.42441055, 0.53737621, 0.53737621,\n",
       "         0.08018463, 0.08018463, 0.8582108 , 0.8582108 , 0.45085773,\n",
       "         0.45085773, 0.49281773, 0.49281773, 0.9116929 , 0.9116929 ,\n",
       "         0.10873409, 0.10873409, 0.81318046, 0.81318046, 0.37052462,\n",
       "         0.37052462, 0.76405105, 0.76405105, 0.12488697, 0.12488697,\n",
       "         0.990589  , 0.990589  , 0.30440041, 0.30440041, 0.67046467,\n",
       "         0.67046467, 0.28596968, 0.28596968, 0.99901755, 0.99901755])}}"
      ]
     },
     "execution_count": 11,
     "metadata": {},
     "output_type": "execute_result"
    }
   ],
   "source": [
    "ds = load_by_id(run_id_n)\n",
    "ds.get_parameter_data('x1')"
   ]
  },
  {
   "cell_type": "markdown",
   "metadata": {},
   "source": [
    "And a dataset stored as binary arrays"
   ]
  },
  {
   "cell_type": "code",
   "execution_count": 12,
   "metadata": {
    "execution": {
     "iopub.execute_input": "2022-04-04T10:39:18.972530Z",
     "iopub.status.busy": "2022-04-04T10:39:18.972234Z",
     "iopub.status.idle": "2022-04-04T10:39:19.025273Z",
     "shell.execute_reply": "2022-04-04T10:39:19.024412Z"
    },
    "scrolled": true
   },
   "outputs": [
    {
     "data": {
      "text/plain": [
       "{'x1': {'x1': array([[0.33866628],\n",
       "         [0.33866628],\n",
       "         [0.07956709],\n",
       "         [0.07956709],\n",
       "         [0.30161083],\n",
       "         [0.30161083],\n",
       "         [0.78566128],\n",
       "         [0.78566128],\n",
       "         [0.44856869],\n",
       "         [0.44856869],\n",
       "         [0.18989156],\n",
       "         [0.18989156],\n",
       "         [0.52386597],\n",
       "         [0.52386597],\n",
       "         [0.13214414],\n",
       "         [0.13214414],\n",
       "         [0.01089098],\n",
       "         [0.01089098],\n",
       "         [0.49617851],\n",
       "         [0.49617851],\n",
       "         [0.21201523],\n",
       "         [0.21201523],\n",
       "         [0.39955171],\n",
       "         [0.39955171],\n",
       "         [0.66163821],\n",
       "         [0.66163821],\n",
       "         [0.86216761],\n",
       "         [0.86216761],\n",
       "         [0.15911524],\n",
       "         [0.15911524],\n",
       "         [0.68289325],\n",
       "         [0.68289325],\n",
       "         [0.66490163],\n",
       "         [0.66490163],\n",
       "         [0.07437498],\n",
       "         [0.07437498],\n",
       "         [0.21490094],\n",
       "         [0.21490094],\n",
       "         [0.32583012],\n",
       "         [0.32583012],\n",
       "         [0.32484354],\n",
       "         [0.32484354],\n",
       "         [0.59514659],\n",
       "         [0.59514659],\n",
       "         [0.66942595],\n",
       "         [0.66942595],\n",
       "         [0.1539204 ],\n",
       "         [0.1539204 ],\n",
       "         [0.25177271],\n",
       "         [0.25177271],\n",
       "         [0.72333044],\n",
       "         [0.72333044],\n",
       "         [0.51730514],\n",
       "         [0.51730514],\n",
       "         [0.4373461 ],\n",
       "         [0.4373461 ],\n",
       "         [0.89883863],\n",
       "         [0.89883863],\n",
       "         [0.52668835],\n",
       "         [0.52668835],\n",
       "         [0.93253911],\n",
       "         [0.93253911],\n",
       "         [0.91536013],\n",
       "         [0.91536013],\n",
       "         [0.98368041],\n",
       "         [0.98368041],\n",
       "         [0.09706784],\n",
       "         [0.09706784],\n",
       "         [0.18063777],\n",
       "         [0.18063777],\n",
       "         [0.08280699],\n",
       "         [0.08280699],\n",
       "         [0.2788387 ],\n",
       "         [0.2788387 ],\n",
       "         [0.51290769],\n",
       "         [0.51290769],\n",
       "         [0.42088834],\n",
       "         [0.42088834],\n",
       "         [0.61031413],\n",
       "         [0.61031413],\n",
       "         [0.59184138],\n",
       "         [0.59184138],\n",
       "         [0.43762433],\n",
       "         [0.43762433],\n",
       "         [0.02915605],\n",
       "         [0.02915605],\n",
       "         [0.13043911],\n",
       "         [0.13043911],\n",
       "         [0.94889323],\n",
       "         [0.94889323],\n",
       "         [0.88507932],\n",
       "         [0.88507932],\n",
       "         [0.20273413],\n",
       "         [0.20273413],\n",
       "         [0.15205294],\n",
       "         [0.15205294],\n",
       "         [0.69395878],\n",
       "         [0.69395878],\n",
       "         [0.90865824],\n",
       "         [0.90865824],\n",
       "         [0.08376947],\n",
       "         [0.08376947],\n",
       "         [0.02452833],\n",
       "         [0.02452833],\n",
       "         [0.59732133],\n",
       "         [0.59732133],\n",
       "         [0.23463732],\n",
       "         [0.23463732],\n",
       "         [0.25636249],\n",
       "         [0.25636249],\n",
       "         [0.87036245],\n",
       "         [0.87036245],\n",
       "         [0.54387088],\n",
       "         [0.54387088],\n",
       "         [0.88203473],\n",
       "         [0.88203473],\n",
       "         [0.86048125],\n",
       "         [0.86048125],\n",
       "         [0.30541318],\n",
       "         [0.30541318],\n",
       "         [0.55515632],\n",
       "         [0.55515632],\n",
       "         [0.01449491],\n",
       "         [0.01449491],\n",
       "         [0.18232938],\n",
       "         [0.18232938],\n",
       "         [0.31863386],\n",
       "         [0.31863386],\n",
       "         [0.60989004],\n",
       "         [0.60989004],\n",
       "         [0.15104673],\n",
       "         [0.15104673],\n",
       "         [0.1565244 ],\n",
       "         [0.1565244 ],\n",
       "         [0.47278962],\n",
       "         [0.47278962],\n",
       "         [0.56325811],\n",
       "         [0.56325811],\n",
       "         [0.65702202],\n",
       "         [0.65702202],\n",
       "         [0.96568542],\n",
       "         [0.96568542],\n",
       "         [0.09439928],\n",
       "         [0.09439928],\n",
       "         [0.28502076],\n",
       "         [0.28502076],\n",
       "         [0.74759977],\n",
       "         [0.74759977],\n",
       "         [0.4797644 ],\n",
       "         [0.4797644 ],\n",
       "         [0.0581598 ],\n",
       "         [0.0581598 ],\n",
       "         [0.79372177],\n",
       "         [0.79372177],\n",
       "         [0.14097278],\n",
       "         [0.14097278],\n",
       "         [0.65845164],\n",
       "         [0.65845164],\n",
       "         [0.22394083],\n",
       "         [0.22394083],\n",
       "         [0.12084712],\n",
       "         [0.12084712],\n",
       "         [0.72657067],\n",
       "         [0.72657067],\n",
       "         [0.01522718],\n",
       "         [0.01522718],\n",
       "         [0.73292011],\n",
       "         [0.73292011],\n",
       "         [0.49572517],\n",
       "         [0.49572517],\n",
       "         [0.05945704],\n",
       "         [0.05945704],\n",
       "         [0.39482701],\n",
       "         [0.39482701],\n",
       "         [0.98095628],\n",
       "         [0.98095628],\n",
       "         [0.87375202],\n",
       "         [0.87375202],\n",
       "         [0.58839254],\n",
       "         [0.58839254],\n",
       "         [0.24318835],\n",
       "         [0.24318835],\n",
       "         [0.5826016 ],\n",
       "         [0.5826016 ],\n",
       "         [0.56982904],\n",
       "         [0.56982904],\n",
       "         [0.78176701],\n",
       "         [0.78176701],\n",
       "         [0.33157   ],\n",
       "         [0.33157   ],\n",
       "         [0.19401467],\n",
       "         [0.19401467],\n",
       "         [0.99596649],\n",
       "         [0.99596649],\n",
       "         [0.19084573],\n",
       "         [0.19084573],\n",
       "         [0.77505865],\n",
       "         [0.77505865],\n",
       "         [0.75274167],\n",
       "         [0.75274167]])}}"
      ]
     },
     "execution_count": 12,
     "metadata": {},
     "output_type": "execute_result"
    }
   ],
   "source": [
    "ds = load_by_id(run_id_a)\n",
    "ds.get_parameter_data('x1')"
   ]
  },
  {
   "cell_type": "code",
   "execution_count": null,
   "metadata": {},
   "outputs": [],
   "source": []
  }
 ],
 "metadata": {
  "kernelspec": {
   "display_name": "Python 3",
   "language": "python",
   "name": "python3"
  },
  "language_info": {
   "codemirror_mode": {
    "name": "ipython",
    "version": 3
   },
   "file_extension": ".py",
   "mimetype": "text/x-python",
   "name": "python",
   "nbconvert_exporter": "python",
   "pygments_lexer": "ipython3",
   "version": "3.9.12"
  },
  "nbsphinx": {
   "timeout": 600
  },
  "toc": {
   "base_numbering": 1,
   "nav_menu": {},
   "number_sections": true,
   "sideBar": true,
   "skip_h1_title": false,
   "title_cell": "Table of Contents",
   "title_sidebar": "Contents",
   "toc_cell": false,
   "toc_position": {},
   "toc_section_display": true,
   "toc_window_display": false
  },
  "varInspector": {
   "cols": {
    "lenName": 16,
    "lenType": 16,
    "lenVar": 40
   },
   "kernels_config": {
    "python": {
     "delete_cmd_postfix": "",
     "delete_cmd_prefix": "del ",
     "library": "var_list.py",
     "varRefreshCmd": "print(var_dic_list())"
    },
    "r": {
     "delete_cmd_postfix": ") ",
     "delete_cmd_prefix": "rm(",
     "library": "var_list.r",
     "varRefreshCmd": "cat(var_dic_list()) "
    }
   },
   "types_to_exclude": [
    "module",
    "function",
    "builtin_function_or_method",
    "instance",
    "_Feature"
   ],
   "window_display": false
  }
 },
 "nbformat": 4,
 "nbformat_minor": 4
}
