{
 "cells": [
  {
   "cell_type": "markdown",
   "id": "plain-primary",
   "metadata": {},
   "source": [
    "# Qcodes example with DelegateInstrument driver\n",
    "\n",
    "This notebooks explains how to use the `DelegateInstrument` driver.\n",
    "\n",
    "## About\n",
    "The goal of the `DelegateInstrument` driver is to make it easier to combine different parameters together into a new \"virtual\" instrument. Each parameter on a `DelegateInstrument` can point to one or more parameters on other instruments in the station.\n",
    "\n",
    "## Usage\n",
    "The way it's used is mainly by specifying an entry in the station YAML. For instance, let's say you want to use a magnetic field coil. The driver has a method set_field(value, block), that by default is set to block=True, which means the field is ramped in a way that blocks further execution until the desired value is reached. However, let's say you are creating a measurement in which you want the parameter to be set, and while the value is ramping, you want to measure other parameters. This can be done by using `DelegateInstrument` and specifying a custom `setter` for the parameter that gets and sets the magnetic field.\n",
    "\n",
    "By default, each parameter is represented by a `DelegateParameter`. The `DelegateInstrument` also supports passing multiple source parameters to a given parameter. In order to do this, simply specify multiple parameters in the dictionary values  under the `parameters` key.\n",
    "\n",
    "It can also add instrument channels, specified under a separate key `channels`, shown in the second half of the notebook."
   ]
  },
  {
   "cell_type": "code",
   "execution_count": 1,
   "id": "sapphire-quebec",
   "metadata": {
    "execution": {
     "iopub.execute_input": "2022-04-04T10:45:04.351348Z",
     "iopub.status.busy": "2022-04-04T10:45:04.350949Z",
     "iopub.status.idle": "2022-04-04T10:45:04.363029Z",
     "shell.execute_reply": "2022-04-04T10:45:04.362383Z"
    }
   },
   "outputs": [
    {
     "name": "stdout",
     "output_type": "stream",
     "text": [
      "Writing example.yaml\n"
     ]
    }
   ],
   "source": [
    "%%writefile example.yaml\n",
    "\n",
    "instruments:\n",
    "  field_X:\n",
    "    type: qcodes.tests.instrument_mocks.MockField\n",
    "\n",
    "  field:\n",
    "    type: qcodes.instrument.delegate.DelegateInstrument\n",
    "    init:\n",
    "      parameters:\n",
    "        X:\n",
    "          - field_X.field\n",
    "        ramp_rate:\n",
    "          - field_X.ramp_rate\n",
    "        combined:\n",
    "          - field_X.field\n",
    "          - field_X.ramp_rate\n",
    "      set_initial_values_on_load: true\n",
    "      initial_values:\n",
    "        ramp_rate: 1.0\n",
    "      setters:\n",
    "        X:\n",
    "          method: field_X.set_field\n",
    "          block: false"
   ]
  },
  {
   "cell_type": "code",
   "execution_count": 2,
   "id": "younger-newspaper",
   "metadata": {
    "execution": {
     "iopub.execute_input": "2022-04-04T10:45:04.366748Z",
     "iopub.status.busy": "2022-04-04T10:45:04.366341Z",
     "iopub.status.idle": "2022-04-04T10:45:04.649013Z",
     "shell.execute_reply": "2022-04-04T10:45:04.648233Z"
    }
   },
   "outputs": [],
   "source": [
    "import qcodes as qc"
   ]
  },
  {
   "cell_type": "code",
   "execution_count": 3,
   "id": "muslim-briefs",
   "metadata": {
    "execution": {
     "iopub.execute_input": "2022-04-04T10:45:04.653002Z",
     "iopub.status.busy": "2022-04-04T10:45:04.652775Z",
     "iopub.status.idle": "2022-04-04T10:45:04.669926Z",
     "shell.execute_reply": "2022-04-04T10:45:04.669294Z"
    }
   },
   "outputs": [],
   "source": [
    "station = qc.Station(config_file=\"example.yaml\")"
   ]
  },
  {
   "cell_type": "code",
   "execution_count": 4,
   "id": "greatest-antenna",
   "metadata": {
    "execution": {
     "iopub.execute_input": "2022-04-04T10:45:04.673386Z",
     "iopub.status.busy": "2022-04-04T10:45:04.672902Z",
     "iopub.status.idle": "2022-04-04T10:45:04.702463Z",
     "shell.execute_reply": "2022-04-04T10:45:04.701838Z"
    }
   },
   "outputs": [],
   "source": [
    "field_X = station.load_field_X()\n",
    "field = station.load_field(station=station)"
   ]
  },
  {
   "cell_type": "code",
   "execution_count": 5,
   "id": "every-playing",
   "metadata": {
    "execution": {
     "iopub.execute_input": "2022-04-04T10:45:04.706365Z",
     "iopub.status.busy": "2022-04-04T10:45:04.705990Z",
     "iopub.status.idle": "2022-04-04T10:45:04.716476Z",
     "shell.execute_reply": "2022-04-04T10:45:04.715907Z"
    }
   },
   "outputs": [
    {
     "data": {
      "text/plain": [
       "0.0"
      ]
     },
     "execution_count": 5,
     "metadata": {},
     "output_type": "execute_result"
    }
   ],
   "source": [
    "field.X()"
   ]
  },
  {
   "cell_type": "code",
   "execution_count": 6,
   "id": "undefined-worst",
   "metadata": {
    "execution": {
     "iopub.execute_input": "2022-04-04T10:45:04.720166Z",
     "iopub.status.busy": "2022-04-04T10:45:04.719833Z",
     "iopub.status.idle": "2022-04-04T10:45:04.723304Z",
     "shell.execute_reply": "2022-04-04T10:45:04.722566Z"
    }
   },
   "outputs": [],
   "source": [
    "field.X(1.)"
   ]
  },
  {
   "cell_type": "code",
   "execution_count": 7,
   "id": "recreational-suggestion",
   "metadata": {
    "execution": {
     "iopub.execute_input": "2022-04-04T10:45:04.726683Z",
     "iopub.status.busy": "2022-04-04T10:45:04.726205Z",
     "iopub.status.idle": "2022-04-04T10:45:04.730450Z",
     "shell.execute_reply": "2022-04-04T10:45:04.729896Z"
    }
   },
   "outputs": [
    {
     "data": {
      "text/plain": [
       "0.00010563135147094727"
      ]
     },
     "execution_count": 7,
     "metadata": {},
     "output_type": "execute_result"
    }
   ],
   "source": [
    "field.X()"
   ]
  },
  {
   "cell_type": "code",
   "execution_count": 8,
   "id": "adopted-exchange",
   "metadata": {
    "execution": {
     "iopub.execute_input": "2022-04-04T10:45:04.734329Z",
     "iopub.status.busy": "2022-04-04T10:45:04.733852Z",
     "iopub.status.idle": "2022-04-04T10:45:04.738047Z",
     "shell.execute_reply": "2022-04-04T10:45:04.737493Z"
    }
   },
   "outputs": [
    {
     "data": {
      "text/plain": [
       "0.00023268858591715496"
      ]
     },
     "execution_count": 8,
     "metadata": {},
     "output_type": "execute_result"
    }
   ],
   "source": [
    "field.X()"
   ]
  },
  {
   "cell_type": "code",
   "execution_count": 9,
   "id": "bound-broadcasting",
   "metadata": {
    "execution": {
     "iopub.execute_input": "2022-04-04T10:45:04.741845Z",
     "iopub.status.busy": "2022-04-04T10:45:04.741369Z",
     "iopub.status.idle": "2022-04-04T10:45:04.745845Z",
     "shell.execute_reply": "2022-04-04T10:45:04.745244Z"
    }
   },
   "outputs": [
    {
     "data": {
      "text/plain": [
       "0.00035820802052815757"
      ]
     },
     "execution_count": 9,
     "metadata": {},
     "output_type": "execute_result"
    }
   ],
   "source": [
    "field.X()"
   ]
  },
  {
   "cell_type": "code",
   "execution_count": 10,
   "id": "casual-ghost",
   "metadata": {
    "execution": {
     "iopub.execute_input": "2022-04-04T10:45:04.749313Z",
     "iopub.status.busy": "2022-04-04T10:45:04.749020Z",
     "iopub.status.idle": "2022-04-04T10:45:04.753253Z",
     "shell.execute_reply": "2022-04-04T10:45:04.752668Z"
    }
   },
   "outputs": [
    {
     "data": {
      "text/plain": [
       "0.0004821260770161947"
      ]
     },
     "execution_count": 10,
     "metadata": {},
     "output_type": "execute_result"
    }
   ],
   "source": [
    "field.X()"
   ]
  },
  {
   "cell_type": "markdown",
   "id": "alike-process",
   "metadata": {},
   "source": [
    "As you can see, the field is now ramped in the background with the specified ramp rate. Now, let's try to create a measurement that uses this ability, and ramps the field in the background while measuring:"
   ]
  },
  {
   "cell_type": "code",
   "execution_count": 11,
   "id": "sustained-tiger",
   "metadata": {
    "execution": {
     "iopub.execute_input": "2022-04-04T10:45:04.756958Z",
     "iopub.status.busy": "2022-04-04T10:45:04.756469Z",
     "iopub.status.idle": "2022-04-04T10:45:04.762776Z",
     "shell.execute_reply": "2022-04-04T10:45:04.762225Z"
    }
   },
   "outputs": [],
   "source": [
    "field.ramp_rate(10.)\n",
    "field_X.field(0.0)"
   ]
  },
  {
   "cell_type": "code",
   "execution_count": 12,
   "id": "pharmaceutical-partition",
   "metadata": {
    "execution": {
     "iopub.execute_input": "2022-04-04T10:45:04.765845Z",
     "iopub.status.busy": "2022-04-04T10:45:04.765376Z",
     "iopub.status.idle": "2022-04-04T10:45:04.769623Z",
     "shell.execute_reply": "2022-04-04T10:45:04.769016Z"
    }
   },
   "outputs": [
    {
     "data": {
      "text/plain": [
       "0.0"
      ]
     },
     "execution_count": 12,
     "metadata": {},
     "output_type": "execute_result"
    }
   ],
   "source": [
    "field.X()"
   ]
  },
  {
   "cell_type": "code",
   "execution_count": 13,
   "id": "happy-ordinance",
   "metadata": {
    "execution": {
     "iopub.execute_input": "2022-04-04T10:45:04.773460Z",
     "iopub.status.busy": "2022-04-04T10:45:04.772984Z",
     "iopub.status.idle": "2022-04-04T10:45:06.010799Z",
     "shell.execute_reply": "2022-04-04T10:45:06.010132Z"
    }
   },
   "outputs": [
    {
     "name": "stdout",
     "output_type": "stream",
     "text": [
      "Starting experimental run with id: 60. \n"
     ]
    }
   ],
   "source": [
    "import time\n",
    "meas = qc.Measurement(station=station)\n",
    "meas.register_parameter(field.X)\n",
    "\n",
    "with meas.run() as datasaver:\n",
    "    for B in [0.1, 0.0]:\n",
    "        field.X(B)\n",
    "        while field.X() != B:\n",
    "            datasaver.add_result((field.X, field.X()))\n",
    "            time.sleep(0.01)\n",
    "    datasaver.flush_data_to_database()"
   ]
  },
  {
   "cell_type": "code",
   "execution_count": 14,
   "id": "short-medium",
   "metadata": {
    "execution": {
     "iopub.execute_input": "2022-04-04T10:45:06.014857Z",
     "iopub.status.busy": "2022-04-04T10:45:06.014409Z",
     "iopub.status.idle": "2022-04-04T10:45:07.150904Z",
     "shell.execute_reply": "2022-04-04T10:45:07.150404Z"
    }
   },
   "outputs": [
    {
     "data": {
      "text/plain": [
       "<AxesSubplot:>"
      ]
     },
     "execution_count": 14,
     "metadata": {},
     "output_type": "execute_result"
    },
    {
     "data": {
      "image/png": "[encoded data removed]",
      "text/plain": [
       "<Figure size 432x288 with 1 Axes>"
      ]
     },
     "metadata": {
      "needs_background": "light"
     },
     "output_type": "display_data"
    }
   ],
   "source": [
    "datasaver.dataset.to_pandas_dataframe().plot()"
   ]
  },
  {
   "cell_type": "markdown",
   "id": "incomplete-vietnamese",
   "metadata": {},
   "source": [
    "When specifying multiple source parameters on a given parameter, the grouped parameter will automatically return a `namedtuple` that returns both values."
   ]
  },
  {
   "cell_type": "code",
   "execution_count": 15,
   "id": "dangerous-finder",
   "metadata": {
    "execution": {
     "iopub.execute_input": "2022-04-04T10:45:07.153917Z",
     "iopub.status.busy": "2022-04-04T10:45:07.153575Z",
     "iopub.status.idle": "2022-04-04T10:45:07.158301Z",
     "shell.execute_reply": "2022-04-04T10:45:07.157863Z"
    }
   },
   "outputs": [
    {
     "data": {
      "text/plain": [
       "combined(field=0.0, ramp_rate=10.0)"
      ]
     },
     "execution_count": 15,
     "metadata": {},
     "output_type": "execute_result"
    }
   ],
   "source": [
    "field.combined()"
   ]
  },
  {
   "cell_type": "markdown",
   "id": "consolidated-cooper",
   "metadata": {},
   "source": [
    "We can now also create a custom parameter that does a simple calculation based on the current parameters."
   ]
  },
  {
   "cell_type": "code",
   "execution_count": 16,
   "id": "designed-bloom",
   "metadata": {
    "execution": {
     "iopub.execute_input": "2022-04-04T10:45:07.161552Z",
     "iopub.status.busy": "2022-04-04T10:45:07.160951Z",
     "iopub.status.idle": "2022-04-04T10:45:07.164957Z",
     "shell.execute_reply": "2022-04-04T10:45:07.164415Z"
    }
   },
   "outputs": [],
   "source": [
    "import numpy as np\n",
    "\n",
    "def calculate_ramp_time(X, ramp_rate):\n",
    "    \"\"\"Calculate ramp time in seconds\"\"\"\n",
    "    dfield = np.abs(field.target_field - X)\n",
    "    return 60. * dfield/ramp_rate"
   ]
  },
  {
   "cell_type": "code",
   "execution_count": 17,
   "id": "disabled-logic",
   "metadata": {
    "execution": {
     "iopub.execute_input": "2022-04-04T10:45:07.167567Z",
     "iopub.status.busy": "2022-04-04T10:45:07.167394Z",
     "iopub.status.idle": "2022-04-04T10:45:07.170856Z",
     "shell.execute_reply": "2022-04-04T10:45:07.170215Z"
    },
    "scrolled": true
   },
   "outputs": [],
   "source": [
    "field._create_and_add_parameter(\n",
    "    group_name=\"ramp_time\",\n",
    "    station=station,\n",
    "    paths=[\"field_X.field\", \"field_X.ramp_rate\"],\n",
    "    formatter=calculate_ramp_time\n",
    ")"
   ]
  },
  {
   "cell_type": "code",
   "execution_count": 18,
   "id": "adverse-february",
   "metadata": {
    "execution": {
     "iopub.execute_input": "2022-04-04T10:45:07.173783Z",
     "iopub.status.busy": "2022-04-04T10:45:07.173409Z",
     "iopub.status.idle": "2022-04-04T10:45:07.177778Z",
     "shell.execute_reply": "2022-04-04T10:45:07.177349Z"
    }
   },
   "outputs": [
    {
     "data": {
      "text/plain": [
       "6.0"
      ]
     },
     "execution_count": 18,
     "metadata": {},
     "output_type": "execute_result"
    }
   ],
   "source": [
    "field.ramp_rate(1.0)\n",
    "field.target_field = 0.1\n",
    "field.ramp_time()"
   ]
  },
  {
   "cell_type": "code",
   "execution_count": 19,
   "id": "statutory-xerox",
   "metadata": {
    "execution": {
     "iopub.execute_input": "2022-04-04T10:45:07.180872Z",
     "iopub.status.busy": "2022-04-04T10:45:07.180355Z",
     "iopub.status.idle": "2022-04-04T10:45:07.183547Z",
     "shell.execute_reply": "2022-04-04T10:45:07.182978Z"
    }
   },
   "outputs": [],
   "source": [
    "field.X(0.1)"
   ]
  },
  {
   "cell_type": "code",
   "execution_count": 20,
   "id": "varying-auditor",
   "metadata": {
    "execution": {
     "iopub.execute_input": "2022-04-04T10:45:07.186294Z",
     "iopub.status.busy": "2022-04-04T10:45:07.186113Z",
     "iopub.status.idle": "2022-04-04T10:45:07.190343Z",
     "shell.execute_reply": "2022-04-04T10:45:07.189640Z"
    }
   },
   "outputs": [
    {
     "data": {
      "text/plain": [
       "5.9947075843811035"
      ]
     },
     "execution_count": 20,
     "metadata": {},
     "output_type": "execute_result"
    }
   ],
   "source": [
    "field.ramp_time()"
   ]
  },
  {
   "cell_type": "code",
   "execution_count": 21,
   "id": "chubby-nickel",
   "metadata": {
    "execution": {
     "iopub.execute_input": "2022-04-04T10:45:07.193695Z",
     "iopub.status.busy": "2022-04-04T10:45:07.193299Z",
     "iopub.status.idle": "2022-04-04T10:45:08.201902Z",
     "shell.execute_reply": "2022-04-04T10:45:08.201301Z"
    }
   },
   "outputs": [
    {
     "data": {
      "text/plain": [
       "4.985765218734741"
      ]
     },
     "execution_count": 21,
     "metadata": {},
     "output_type": "execute_result"
    }
   ],
   "source": [
    "import time\n",
    "time.sleep(1.)\n",
    "field.ramp_time()"
   ]
  },
  {
   "cell_type": "code",
   "execution_count": 22,
   "id": "italian-liberty",
   "metadata": {
    "execution": {
     "iopub.execute_input": "2022-04-04T10:45:08.206227Z",
     "iopub.status.busy": "2022-04-04T10:45:08.206027Z",
     "iopub.status.idle": "2022-04-04T10:45:09.213573Z",
     "shell.execute_reply": "2022-04-04T10:45:09.212870Z"
    }
   },
   "outputs": [
    {
     "data": {
      "text/plain": [
       "3.973143577575684"
      ]
     },
     "execution_count": 22,
     "metadata": {},
     "output_type": "execute_result"
    }
   ],
   "source": [
    "import time\n",
    "time.sleep(1.)\n",
    "field.ramp_time()"
   ]
  },
  {
   "cell_type": "markdown",
   "id": "444c716b",
   "metadata": {},
   "source": [
    "# Devices with channels"
   ]
  },
  {
   "cell_type": "markdown",
   "id": "f5220292",
   "metadata": {},
   "source": [
    "The YAML file below specifies the instruments with the channels/parameters we wish to group into a new instrument, here called \"device\". The first example simply adds the channel 'as is' using self.add_submodule, while the readout parameter is added as a DelegateParameter."
   ]
  },
  {
   "cell_type": "code",
   "execution_count": 23,
   "id": "06504b6e",
   "metadata": {
    "execution": {
     "iopub.execute_input": "2022-04-04T10:45:09.217424Z",
     "iopub.status.busy": "2022-04-04T10:45:09.216897Z",
     "iopub.status.idle": "2022-04-04T10:45:09.221681Z",
     "shell.execute_reply": "2022-04-04T10:45:09.221044Z"
    }
   },
   "outputs": [
    {
     "name": "stdout",
     "output_type": "stream",
     "text": [
      "Overwriting example.yaml\n"
     ]
    }
   ],
   "source": [
    "%%writefile example.yaml\n",
    "\n",
    "instruments:\n",
    "  lockin:\n",
    "    type: qcodes.tests.instrument_mocks.MockLockin\n",
    "\n",
    "  dac:\n",
    "    type: qcodes.tests.instrument_mocks.MockDAC   \n",
    "\n",
    "  device:\n",
    "    type: qcodes.instrument.delegate.DelegateInstrument\n",
    "    init:\n",
    "      parameters:\n",
    "        readout: lockin.X\n",
    "      channels:\n",
    "        gate_1: dac.ch01\n",
    "      set_initial_values_on_load: true\n",
    "      initial_values:\n",
    "        readout: 1e-5\n",
    "        gate_1.voltage.post_delay: 0.01"
   ]
  },
  {
   "cell_type": "code",
   "execution_count": 24,
   "id": "e7b32d64",
   "metadata": {
    "execution": {
     "iopub.execute_input": "2022-04-04T10:45:09.225782Z",
     "iopub.status.busy": "2022-04-04T10:45:09.225364Z",
     "iopub.status.idle": "2022-04-04T10:45:09.239214Z",
     "shell.execute_reply": "2022-04-04T10:45:09.238612Z"
    }
   },
   "outputs": [],
   "source": [
    "station = qc.Station(config_file=\"example.yaml\")"
   ]
  },
  {
   "cell_type": "code",
   "execution_count": 25,
   "id": "052d2dea",
   "metadata": {
    "execution": {
     "iopub.execute_input": "2022-04-04T10:45:09.242550Z",
     "iopub.status.busy": "2022-04-04T10:45:09.242135Z",
     "iopub.status.idle": "2022-04-04T10:45:09.283288Z",
     "shell.execute_reply": "2022-04-04T10:45:09.282570Z"
    }
   },
   "outputs": [],
   "source": [
    "lockin = station.load_lockin()\n",
    "dac = station.load_dac()\n",
    "device = station.load_device(station=station)"
   ]
  },
  {
   "cell_type": "code",
   "execution_count": 26,
   "id": "959cc5cc",
   "metadata": {
    "execution": {
     "iopub.execute_input": "2022-04-04T10:45:09.287108Z",
     "iopub.status.busy": "2022-04-04T10:45:09.286749Z",
     "iopub.status.idle": "2022-04-04T10:45:09.292721Z",
     "shell.execute_reply": "2022-04-04T10:45:09.292103Z"
    }
   },
   "outputs": [
    {
     "name": "stdout",
     "output_type": "stream",
     "text": [
      "<MockDACChannel: dac_ch01 of MockDAC: dac>\n",
      "0.01\n"
     ]
    }
   ],
   "source": [
    "print(device.gate_1)\n",
    "print(device.gate_1.voltage.post_delay)"
   ]
  },
  {
   "cell_type": "code",
   "execution_count": 27,
   "id": "0f45ae95",
   "metadata": {
    "execution": {
     "iopub.execute_input": "2022-04-04T10:45:09.295864Z",
     "iopub.status.busy": "2022-04-04T10:45:09.295591Z",
     "iopub.status.idle": "2022-04-04T10:45:09.313200Z",
     "shell.execute_reply": "2022-04-04T10:45:09.312615Z"
    }
   },
   "outputs": [
    {
     "name": "stdout",
     "output_type": "stream",
     "text": [
      "0.0\n"
     ]
    },
    {
     "data": {
      "text/plain": [
       "-0.6"
      ]
     },
     "execution_count": 27,
     "metadata": {},
     "output_type": "execute_result"
    }
   ],
   "source": [
    "print(device.gate_1.voltage())\n",
    "device.gate_1.voltage(-0.6)\n",
    "device.gate_1.voltage()"
   ]
  },
  {
   "cell_type": "markdown",
   "id": "c356b01c",
   "metadata": {},
   "source": [
    "The second example adds a channel using a custom channel class, which takes the initial channel and its name as input and has a parameter current_valid_ranges."
   ]
  },
  {
   "cell_type": "code",
   "execution_count": 28,
   "id": "67b84a8e",
   "metadata": {
    "execution": {
     "iopub.execute_input": "2022-04-04T10:45:09.316741Z",
     "iopub.status.busy": "2022-04-04T10:45:09.316039Z",
     "iopub.status.idle": "2022-04-04T10:45:09.322872Z",
     "shell.execute_reply": "2022-04-04T10:45:09.322170Z"
    }
   },
   "outputs": [
    {
     "name": "stdout",
     "output_type": "stream",
     "text": [
      "Overwriting example.yaml\n"
     ]
    }
   ],
   "source": [
    "%%writefile example.yaml\n",
    "\n",
    "instruments:\n",
    "  lockin:\n",
    "    type: qcodes.tests.instrument_mocks.MockLockin\n",
    "\n",
    "  dac:\n",
    "    type: qcodes.tests.instrument_mocks.MockDAC   \n",
    "\n",
    "  device:\n",
    "    type: qcodes.instrument.delegate.DelegateInstrument\n",
    "    init:\n",
    "      parameters:\n",
    "        readout: lockin.X\n",
    "      channels:\n",
    "        type: qcodes.tests.instrument_mocks.MockCustomChannel\n",
    "        gate_1: \n",
    "          channel: dac.ch01\n",
    "          current_valid_range: [-0.5, 0]\n",
    "      set_initial_values_on_load: true\n",
    "      initial_values:\n",
    "        readout: 1e-5"
   ]
  },
  {
   "cell_type": "code",
   "execution_count": 29,
   "id": "e9b25d65",
   "metadata": {
    "execution": {
     "iopub.execute_input": "2022-04-04T10:45:09.325766Z",
     "iopub.status.busy": "2022-04-04T10:45:09.325577Z",
     "iopub.status.idle": "2022-04-04T10:45:09.330079Z",
     "shell.execute_reply": "2022-04-04T10:45:09.329516Z"
    }
   },
   "outputs": [],
   "source": [
    "lockin.close()\n",
    "dac.close()"
   ]
  },
  {
   "cell_type": "code",
   "execution_count": 30,
   "id": "7f50fcda",
   "metadata": {
    "execution": {
     "iopub.execute_input": "2022-04-04T10:45:09.333092Z",
     "iopub.status.busy": "2022-04-04T10:45:09.332900Z",
     "iopub.status.idle": "2022-04-04T10:45:09.376169Z",
     "shell.execute_reply": "2022-04-04T10:45:09.375431Z"
    }
   },
   "outputs": [],
   "source": [
    "station = qc.Station(config_file=\"example.yaml\")\n",
    "lockin = station.load_lockin()\n",
    "dac = station.load_dac()"
   ]
  },
  {
   "cell_type": "code",
   "execution_count": 31,
   "id": "2e588790",
   "metadata": {
    "execution": {
     "iopub.execute_input": "2022-04-04T10:45:09.380813Z",
     "iopub.status.busy": "2022-04-04T10:45:09.380263Z",
     "iopub.status.idle": "2022-04-04T10:45:09.397018Z",
     "shell.execute_reply": "2022-04-04T10:45:09.396430Z"
    }
   },
   "outputs": [],
   "source": [
    "device = station.load_device(station=station)"
   ]
  },
  {
   "cell_type": "code",
   "execution_count": 32,
   "id": "9e216dc7",
   "metadata": {
    "execution": {
     "iopub.execute_input": "2022-04-04T10:45:09.400427Z",
     "iopub.status.busy": "2022-04-04T10:45:09.399997Z",
     "iopub.status.idle": "2022-04-04T10:45:09.406870Z",
     "shell.execute_reply": "2022-04-04T10:45:09.406323Z"
    }
   },
   "outputs": [
    {
     "data": {
      "text/plain": [
       "<MockCustomChannel: dac_gate_1 of MockDAC: dac>"
      ]
     },
     "execution_count": 32,
     "metadata": {},
     "output_type": "execute_result"
    }
   ],
   "source": [
    "device.gate_1"
   ]
  },
  {
   "cell_type": "code",
   "execution_count": 33,
   "id": "499918fa",
   "metadata": {
    "execution": {
     "iopub.execute_input": "2022-04-04T10:45:09.410206Z",
     "iopub.status.busy": "2022-04-04T10:45:09.409754Z",
     "iopub.status.idle": "2022-04-04T10:45:09.414222Z",
     "shell.execute_reply": "2022-04-04T10:45:09.413656Z"
    }
   },
   "outputs": [],
   "source": [
    "device.gate_1.voltage(-0.3)"
   ]
  },
  {
   "cell_type": "code",
   "execution_count": 34,
   "id": "f69759c3",
   "metadata": {
    "execution": {
     "iopub.execute_input": "2022-04-04T10:45:09.417417Z",
     "iopub.status.busy": "2022-04-04T10:45:09.417006Z",
     "iopub.status.idle": "2022-04-04T10:45:09.423688Z",
     "shell.execute_reply": "2022-04-04T10:45:09.423185Z"
    }
   },
   "outputs": [
    {
     "data": {
      "text/plain": [
       "-0.3"
      ]
     },
     "execution_count": 34,
     "metadata": {},
     "output_type": "execute_result"
    }
   ],
   "source": [
    "device.gate_1.voltage()"
   ]
  },
  {
   "cell_type": "markdown",
   "id": "a6255b4e",
   "metadata": {},
   "source": [
    "The MockCustomChannel has a parameter `current_valid_range`."
   ]
  },
  {
   "cell_type": "code",
   "execution_count": 35,
   "id": "5adb67bc",
   "metadata": {
    "execution": {
     "iopub.execute_input": "2022-04-04T10:45:09.426584Z",
     "iopub.status.busy": "2022-04-04T10:45:09.426392Z",
     "iopub.status.idle": "2022-04-04T10:45:09.433125Z",
     "shell.execute_reply": "2022-04-04T10:45:09.432552Z"
    }
   },
   "outputs": [
    {
     "data": {
      "text/plain": [
       "[-0.5, 0]"
      ]
     },
     "execution_count": 35,
     "metadata": {},
     "output_type": "execute_result"
    }
   ],
   "source": [
    "device.gate_1.current_valid_range()"
   ]
  }
 ],
 "metadata": {
  "kernelspec": {
   "display_name": "Python 3.7.9 64-bit ('qcodes_fork': conda)",
   "name": "python379jvsc74a57bd02b540bc2d5f6bd8c1d4c354bd6559a26f5871610d8f84463e1d37eff37c7ba44"
  },
  "language_info": {
   "codemirror_mode": {
    "name": "ipython",
    "version": 3
   },
   "file_extension": ".py",
   "mimetype": "text/x-python",
   "name": "python",
   "nbconvert_exporter": "python",
   "pygments_lexer": "ipython3",
   "version": "3.9.12"
  }
 },
 "nbformat": 4,
 "nbformat_minor": 5
}
